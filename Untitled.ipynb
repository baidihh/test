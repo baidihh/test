{
 "cells": [
  {
   "cell_type": "code",
   "execution_count": null,
   "id": "968e96fe",
   "metadata": {},
   "outputs": [],
   "source": [
    "import numpy as np\n",
    "from sklearn.model_selection import train_test_split\n",
    "from sklearn import datasets\n",
    "from sklearn.linear_model import LinearRegression\n",
    "from sklearn.preprocessing import PolynomialFeatures\n",
    "if __name__ == \"__main__\":\n",
    "    \n",
    "\n",
    "data = datasets.load_boston()\n",
    "x = data.data\n",
    "y = data.target\n",
    "x_train, x_test, y_train, y_test = train_test_split(x, y, random_state=1)\n",
    "\n",
    "linear_model = LinearRegression()\n",
    "linear_model.fit(x_train,y_train)\n",
    "\n",
    "model  = PolynomialFeatures(degree=2)      \n",
    "x_transformed=model.fit_transform(x_train)\n",
    "poly_linear_model = LinearRegression()#创建回归器\n",
    "poly_linear_model.fit(x_transformed, y_train)\n",
    "\n",
    "y_predict=linear_model.predict(x_test)\n",
    "x_test1=model.fit_transform(x_test)\n",
    "y_hat = poly_linear_model.predict(x_test1)\n",
    "linear_mse = np.average((y_predict - np.array(y_test)) ** 2)\n",
    "poly_mse = np.average((y_hat - np.array(y_test)) ** 2)  # Mean Squared Error\n",
    "print (linear_mse,poly_mse)"
   ]
  },
  {
   "cell_type": "code",
   "execution_count": null,
   "id": "9f6d8dc4",
   "metadata": {},
   "outputs": [],
   "source": []
  },
  {
   "cell_type": "code",
   "execution_count": null,
   "id": "2832b8ac",
   "metadata": {},
   "outputs": [],
   "source": [
    "from sklearn.linear_model import LinearRegression\n",
    "lr = LinearRegression()\n",
    "lr.fit(X_train, y_train)"
   ]
  },
  {
   "cell_type": "code",
   "execution_count": null,
   "id": "bf46dbf2",
   "metadata": {},
   "outputs": [],
   "source": []
  },
  {
   "cell_type": "code",
   "execution_count": null,
   "id": "4cf02890",
   "metadata": {},
   "outputs": [],
   "source": []
  },
  {
   "cell_type": "code",
   "execution_count": null,
   "id": "fccdc819",
   "metadata": {},
   "outputs": [],
   "source": [
    "from sklearn import cross_validation\n",
    "X_train, X_test, y_train, y_test = cross_validation.train_test_split(X, y, test_size=0.25, random_state=5)\n",
    "classifier_gaussiannb = GaussianNB()\n",
    "classifier_gaussiannb.fit(X_train, y_train)\n",
    "y_test_pred = classifier_gaussiannb.predict(X_test)\n",
    "# 计算F1得分\n",
    "f1 = cross_validation.cross_val_score(classifier_gaussiannb,\n",
    "        X, y, scoring='f1_weighted', cv=5)\n",
    "print (\"F1 score: \" + str(round(100*f1.mean(), 2)) + \"%\")"
   ]
  },
  {
   "cell_type": "code",
   "execution_count": null,
   "id": "575588ee",
   "metadata": {},
   "outputs": [],
   "source": []
  },
  {
   "cell_type": "code",
   "execution_count": null,
   "id": "270b7370",
   "metadata": {},
   "outputs": [],
   "source": []
  }
 ],
 "metadata": {
  "kernelspec": {
   "display_name": "Python 3 (ipykernel)",
   "language": "python",
   "name": "python3"
  },
  "language_info": {
   "codemirror_mode": {
    "name": "ipython",
    "version": 3
   },
   "file_extension": ".py",
   "mimetype": "text/x-python",
   "name": "python",
   "nbconvert_exporter": "python",
   "pygments_lexer": "ipython3",
   "version": "3.9.12"
  },
  "toc": {
   "base_numbering": 1,
   "nav_menu": {},
   "number_sections": true,
   "sideBar": true,
   "skip_h1_title": false,
   "title_cell": "Table of Contents",
   "title_sidebar": "Contents",
   "toc_cell": false,
   "toc_position": {},
   "toc_section_display": true,
   "toc_window_display": false
  }
 },
 "nbformat": 4,
 "nbformat_minor": 5
}
